{
 "cells": [
  {
   "cell_type": "code",
   "execution_count": 1,
   "metadata": {},
   "outputs": [
    {
     "ename": "ModuleNotFoundError",
     "evalue": "No module named 'helper'",
     "output_type": "error",
     "traceback": [
      "\u001b[0;31m---------------------------------------------------------------------------\u001b[0m",
      "\u001b[0;31mModuleNotFoundError\u001b[0m                       Traceback (most recent call last)",
      "\u001b[0;32m<ipython-input-1-d49c7e1b5b52>\u001b[0m in \u001b[0;36m<module>\u001b[0;34m\u001b[0m\n\u001b[1;32m      1\u001b[0m \u001b[0;32mimport\u001b[0m \u001b[0mtables\u001b[0m\u001b[0;34m\u001b[0m\u001b[0;34m\u001b[0m\u001b[0m\n\u001b[0;32m----> 2\u001b[0;31m \u001b[0;32mfrom\u001b[0m \u001b[0mhelper\u001b[0m \u001b[0;32mimport\u001b[0m \u001b[0mcreate_noun_set\u001b[0m\u001b[0;34m\u001b[0m\u001b[0;34m\u001b[0m\u001b[0m\n\u001b[0m\u001b[1;32m      3\u001b[0m \u001b[0;32mimport\u001b[0m \u001b[0mpandas\u001b[0m \u001b[0;32mas\u001b[0m \u001b[0mpd\u001b[0m\u001b[0;34m\u001b[0m\u001b[0;34m\u001b[0m\u001b[0m\n\u001b[1;32m      4\u001b[0m \u001b[0;34m\u001b[0m\u001b[0m\n\u001b[1;32m      5\u001b[0m \u001b[0;34m\u001b[0m\u001b[0m\n",
      "\u001b[0;31mModuleNotFoundError\u001b[0m: No module named 'helper'"
     ]
    }
   ],
   "source": [
    "import tables\n",
    "from ../helper import create_noun_set\n",
    "import pandas as pd\n",
    "\n",
    "\n",
    "import sys\n",
    "\n",
    "sys.path.append('/Users/sebastiaanscholten/Documents/speech2image-master/PyTorch/functions')\n",
    "\n",
    "from data_split import split_data_flickr\n",
    "data_file = tables.open_file(\"/Users/sebastiaanscholten/Documents/speech2image-master/experiments/Generating_Flickrwords_mfcc/mfcc/words_mfcc_features.h5\", mode='r+')\n",
    "flickr_file = tables.open_file('/Users/sebastiaanscholten/Documents/speech2image-master/preprocessing/prep_data/flickr_features_27jan_fixed.h5', mode='r+')\n",
    "split_loc = '/Users/sebastiaanscholten/Documents/speech2image-master/preprocessing/testfolder2/test/dataset.json'\n",
    "\n",
    "import json\n",
    "import torch\n",
    "path = \"/Users/sebastiaanscholten/Documents/speech2image-master/experiments/data/imagecaptiontextdictionary.json\"\n",
    "\n",
    "with open(path,\"r\") as json_file:\n",
    "    data = json.load(json_file)\n",
    "    \n",
    "jsondata = data\n",
    "torchvalue = torch.tensor([546])\n",
    "\n",
    "def iterate_data(h5_file):\n",
    "    for x in h5_file.root:\n",
    "        yield x"
   ]
  },
  {
   "cell_type": "code",
   "execution_count": 4,
   "metadata": {},
   "outputs": [],
   "source": [
    "mfcc = [node for node in iterate_data(data_file)]"
   ]
  },
  {
   "cell_type": "code",
   "execution_count": 6,
   "metadata": {},
   "outputs": [],
   "source": [
    "nouns_txt = pd.read_csv(\"/Users/sebastiaanscholten/Documents/speech2image-master/experiments/data/testwords.txt\", header=None)\n",
    "nouns = nouns_txt.iloc[:,0].values.tolist()\n",
    "\n",
    "f_nodes_mfcc = create_noun_set(nouns,data_file)\n",
    "\n",
    "f_nodes_flickr = [node for node in iterate_data(flickr_file)]\n",
    "\n",
    "train,test,val = split_data_flickr(f_nodes_flickr, split_loc)"
   ]
  },
  {
   "cell_type": "code",
   "execution_count": 53,
   "metadata": {},
   "outputs": [
    {
     "data": {
      "text/plain": [
       "[True]"
      ]
     },
     "execution_count": 53,
     "metadata": {},
     "output_type": "execute_result"
    }
   ],
   "source": [
    "x = torch.tensor([546,660,970,98,340])\n",
    "\n",
    "testword = \"baseball\"\n",
    "filename = test[x[4]]._v_name.replace('flickr_', '')+\".jpg\"\n",
    "recalledcorrectly = []\n",
    "for word in jsondata[filename]:\n",
    "    found = False\n",
    "    if word == testword:\n",
    "        recalledcorrectly.append(True)\n",
    "        found = True\n",
    "        break\n",
    "if found == False:\n",
    "    recalledcorrectly.append(False)\n",
    "    \n",
    "recalledcorrectly"
   ]
  },
  {
   "cell_type": "code",
   "execution_count": 54,
   "metadata": {},
   "outputs": [
    {
     "name": "stdout",
     "output_type": "stream",
     "text": [
      "/flickr_1000268201_693b08cb0e/tokens/flickr_1000268201_693b08cb0e_5385 (Array(17,)) ''\n",
      "/flickr_1000268201_693b08cb0e/tokens/flickr_1000268201_693b08cb0e_5386 (Array(7,)) ''\n",
      "/flickr_1000268201_693b08cb0e/tokens/flickr_1000268201_693b08cb0e_5387 (Array(8,)) ''\n",
      "/flickr_1000268201_693b08cb0e/tokens/flickr_1000268201_693b08cb0e_5388 (Array(9,)) ''\n",
      "/flickr_1000268201_693b08cb0e/tokens/flickr_1000268201_693b08cb0e_5389 (Array(12,)) ''\n"
     ]
    }
   ],
   "source": [
    "f_nodes_mfcc[0]._v_name.replace('flickr_', '')\n",
    "for words in f_nodes_flickr[0][\"tokens\"]:\n",
    "    print(words)\n",
    "f_nodes_flickr[0][\"raw_text\"]._f_list_nodes()[3].read()"
   ]
  },
  {
   "cell_type": "code",
   "execution_count": 61,
   "metadata": {},
   "outputs": [
    {
     "data": {
      "text/plain": [
       "'air'"
      ]
     },
     "execution_count": 61,
     "metadata": {},
     "output_type": "execute_result"
    }
   ],
   "source": [
    "f_nodes_mfcc[0]._v_name.replace('flickr_', '')"
   ]
  },
  {
   "cell_type": "code",
   "execution_count": null,
   "metadata": {},
   "outputs": [],
   "source": []
  },
  {
   "cell_type": "code",
   "execution_count": 74,
   "metadata": {},
   "outputs": [
    {
     "data": {
      "text/plain": [
       "['jumps',\n",
       " 'does',\n",
       " 'a',\n",
       " 'track',\n",
       " 'man',\n",
       " 'athlete',\n",
       " 'over',\n",
       " 'running',\n",
       " 'down',\n",
       " 'balance',\n",
       " 'trick',\n",
       " 'flip',\n",
       " 'performing',\n",
       " 'gymnastic',\n",
       " 'male',\n",
       " 'pole',\n",
       " 'bar',\n",
       " 'beam',\n",
       " 'competition',\n",
       " 'upside',\n",
       " 'gymnast',\n",
       " 'midair',\n",
       " 'is',\n",
       " 'in',\n",
       " 'boy',\n",
       " 'and',\n",
       " 'the',\n",
       " 'vault',\n",
       " 'young']"
      ]
     },
     "execution_count": 74,
     "metadata": {},
     "output_type": "execute_result"
    }
   ],
   "source": [
    "jsondata[\"3211210739_3dea005fde.jpg\"]"
   ]
  },
  {
   "cell_type": "code",
   "execution_count": 1,
   "metadata": {},
   "outputs": [],
   "source": []
  },
  {
   "cell_type": "code",
   "execution_count": null,
   "metadata": {},
   "outputs": [],
   "source": []
  }
 ],
 "metadata": {
  "kernelspec": {
   "display_name": "Python 3",
   "language": "python",
   "name": "python3"
  },
  "language_info": {
   "codemirror_mode": {
    "name": "ipython",
    "version": 3
   },
   "file_extension": ".py",
   "mimetype": "text/x-python",
   "name": "python",
   "nbconvert_exporter": "python",
   "pygments_lexer": "ipython3",
   "version": "3.7.6"
  }
 },
 "nbformat": 4,
 "nbformat_minor": 2
}
