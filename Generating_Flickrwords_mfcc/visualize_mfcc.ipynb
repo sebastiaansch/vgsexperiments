{
 "cells": [
  {
   "cell_type": "code",
   "execution_count": 1,
   "metadata": {},
   "outputs": [],
   "source": [
    "import numpy as np\n",
    "import librosa.display\n",
    "import h5py\n"
   ]
  },
  {
   "cell_type": "code",
   "execution_count": 2,
   "metadata": {},
   "outputs": [
    {
     "name": "stdout",
     "output_type": "stream",
     "text": [
      "[[-5.0000000e+01  0.0000000e+00  0.0000000e+00 ... -3.3830427e-02\n",
      "  -4.6680072e-01 -6.0087883e-01]\n",
      " [-5.0000000e+01  0.0000000e+00  0.0000000e+00 ...  1.3833867e-01\n",
      "  -3.3309615e-01 -2.6637629e-01]\n",
      " [-5.0000000e+01  0.0000000e+00  0.0000000e+00 ...  3.2521665e-01\n",
      "   9.3658932e-02  5.5113780e-01]\n",
      " ...\n",
      " [ 2.7870028e+00 -3.0527191e+01  1.0445361e+01 ... -2.3206841e-02\n",
      "  -3.4817299e-01 -5.2683103e-01]\n",
      " [ 4.9768286e+00 -3.8568050e+01  6.5220823e+00 ... -1.4551382e-01\n",
      "  -2.0618839e-02 -1.7123975e-01]\n",
      " [ 4.9136353e+00 -4.1062878e+01  5.0324006e+00 ... -1.2299705e-01\n",
      "   1.2340683e-01  7.3182978e-02]]\n"
     ]
    }
   ],
   "source": [
    "hdf = h5py.File('mfcc/words_mfcc_features.h5',mode=\"r\")\n",
    "\n",
    "word = \"flickr_\"+ \"tee\"\n",
    "\n",
    "mfcc = np.array(hdf.get(word).get(\"mfcc\").get(word))\n",
    "print(mfcc)"
   ]
  },
  {
   "cell_type": "code",
   "execution_count": 3,
   "metadata": {},
   "outputs": [
    {
     "data": {
      "image/png": "[encoded data removed]",
      "text/plain": [
       "<Figure size 432x288 with 1 Axes>"
      ]
     },
     "metadata": {
      "needs_background": "light"
     },
     "output_type": "display_data"
    }
   ],
   "source": [
    "mfcc = mfcc.transpose()\n",
    "x = librosa.display.specshow(mfcc,x_axis='time');\n"
   ]
  }
 ],
 "metadata": {
  "kernelspec": {
   "display_name": "Python 3",
   "language": "python",
   "name": "python3"
  },
  "language_info": {
   "codemirror_mode": {
    "name": "ipython",
    "version": 3
   },
   "file_extension": ".py",
   "mimetype": "text/x-python",
   "name": "python",
   "nbconvert_exporter": "python",
   "pygments_lexer": "ipython3",
   "version": "3.7.6"
  }
 },
 "nbformat": 4,
 "nbformat_minor": 2
}
