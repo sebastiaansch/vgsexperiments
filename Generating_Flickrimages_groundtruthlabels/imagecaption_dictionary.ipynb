{
 "cells": [
  {
   "cell_type": "code",
   "execution_count": 8,
   "metadata": {},
   "outputs": [],
   "source": [
    "import json\n",
    "path = \"/Users/sebastiaanscholten/Documents/speech2image-master/experiments/data/dataset.json\"\n",
    "\n",
    "with open(path,\"r\") as json_file:\n",
    "    data = json.load(json_file)"
   ]
  },
  {
   "cell_type": "code",
   "execution_count": 9,
   "metadata": {},
   "outputs": [],
   "source": [
    "jsondata = data"
   ]
  },
  {
   "cell_type": "code",
   "execution_count": 10,
   "metadata": {},
   "outputs": [],
   "source": [
    "# p = jsondata.get(\"images\")[0].get(\"sentences\")[0]\n",
    "# p.extend(jsondata.get(\"images\")[0].get(\"sentences\")[3].get(\"tokens\"))"
   ]
  },
  {
   "cell_type": "code",
   "execution_count": 11,
   "metadata": {},
   "outputs": [],
   "source": [
    "imagedict = {}\n",
    "for i in range(0,len(jsondata.get(\"images\"))):\n",
    "    filename = jsondata.get(\"images\")[i].get(\"filename\")\n",
    "    tokenlist = []\n",
    "    for j in range(0,5):\n",
    "        tokenlist.extend(jsondata.get(\"images\")[i].get(\"sentences\")[j].get(\"tokens\"))\n",
    "    tokenlist = set(tokenlist)\n",
    "    tokenlist = list(tokenlist)\n",
    "    imagedict[filename] = tokenlist"
   ]
  },
  {
   "cell_type": "code",
   "execution_count": 13,
   "metadata": {},
   "outputs": [],
   "source": [
    "with open('../data/imagecaptiontextdictionary.json', 'w') as fp:\n",
    "    json.dump(imagedict, fp)\n"
   ]
  },
  {
   "cell_type": "code",
   "execution_count": null,
   "metadata": {},
   "outputs": [],
   "source": []
  }
 ],
 "metadata": {
  "kernelspec": {
   "display_name": "Python 3",
   "language": "python",
   "name": "python3"
  },
  "language_info": {
   "codemirror_mode": {
    "name": "ipython",
    "version": 3
   },
   "file_extension": ".py",
   "mimetype": "text/x-python",
   "name": "python",
   "nbconvert_exporter": "python",
   "pygments_lexer": "ipython3",
   "version": "3.7.6"
  }
 },
 "nbformat": 4,
 "nbformat_minor": 2
}
